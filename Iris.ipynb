{
  "nbformat": 4,
  "nbformat_minor": 0,
  "metadata": {
    "colab": {
      "name": "Iris.ipynb",
      "version": "0.3.2",
      "provenance": [],
      "collapsed_sections": [],
      "include_colab_link": true
    },
    "kernelspec": {
      "name": "python3",
      "display_name": "Python 3"
    }
  },
  "cells": [
    {
      "cell_type": "markdown",
      "metadata": {
        "id": "view-in-github",
        "colab_type": "text"
      },
      "source": [
        "[View in Colaboratory](https://colab.research.google.com/github/NehaAgarwal2598/MLCC_Sessions/blob/master/Iris.ipynb)"
      ]
    },
    {
      "metadata": {
        "id": "AEjgEeerIsIU",
        "colab_type": "code",
        "colab": {}
      },
      "cell_type": "code",
      "source": [
        "import pandas as pd\n",
        "import matplotlib.pyplot as plt\n",
        "import numpy as np\n",
        "from sklearn import datasets\n",
        "#from google.colab import files\n",
        "#files.upload()"
      ],
      "execution_count": 0,
      "outputs": []
    },
    {
      "metadata": {
        "id": "kJ2T-4t9Jxme",
        "colab_type": "code",
        "colab": {}
      },
      "cell_type": "code",
      "source": [
        "iris = datasets.load_iris()\n",
        "print(iris)\n",
        "iris = pd.DataFrame(iris.data)\n",
        "\n"
      ],
      "execution_count": 0,
      "outputs": []
    },
    {
      "metadata": {
        "id": "G5xeUM7AMD_7",
        "colab_type": "code",
        "colab": {}
      },
      "cell_type": "code",
      "source": [
        "import seaborn as sns\n",
        "sns.countplot(fruits['fruit_name'])\n",
        "plt.show()"
      ],
      "execution_count": 0,
      "outputs": []
    },
    {
      "metadata": {
        "id": "uOT8jn73MfaQ",
        "colab_type": "code",
        "colab": {}
      },
      "cell_type": "code",
      "source": [
        "y = fruits['fruit_label']\n",
        "X = fruits.iloc[:,3:]\n",
        "\n",
        "plt.scatter(X[y==1]['height'],X[y==1]['width'],label='Apple', c='red')\n",
        "plt.scatter(X[y==2]['height'],X[y==2]['width'],label='Mandrain', c='green')\n",
        "plt.scatter(X[y==3]['height'],X[y==3]['width'],label='Orange', c='orange')\n",
        "plt.scatter(X[y==4]['height'],X[y==4]['width'],label='Lemon', c='yellow')\n",
        "\n",
        "plt.legend()\n",
        "plt.xlabel('height')\n",
        "plt.ylabel('weight')\n"
      ],
      "execution_count": 0,
      "outputs": []
    },
    {
      "metadata": {
        "id": "Js2FojFyN7c9",
        "colab_type": "code",
        "colab": {}
      },
      "cell_type": "code",
      "source": [
        "y = fruits['fruit_label']\n",
        "X = fruits.iloc[:,3:]\n",
        "\n",
        "plt.scatter(X[y==1]['mass'],X[y==1]['color_score'],label='Apple', c='red')\n",
        "plt.scatter(X[y==2]['mass'],X[y==2]['color_score'],label='Mandrain', c='green')\n",
        "plt.scatter(X[y==3]['mass'],X[y==3]['color_score'],label='Orange', c='orange')\n",
        "plt.scatter(X[y==4]['mass'],X[y==4]['color_score'],label='Lemon', c='yellow')\n",
        "\n",
        "plt.legend()\n",
        "plt.xlabel('mass')\n",
        "plt.ylabel('color_score')\n"
      ],
      "execution_count": 0,
      "outputs": []
    },
    {
      "metadata": {
        "id": "sKAR6QhWQjT-",
        "colab_type": "code",
        "colab": {}
      },
      "cell_type": "code",
      "source": [
        "features_names = ['mass', 'width', 'height', 'color_score']\n",
        "X= fruits[features_names]\n",
        "y = fruits['fruit_label']"
      ],
      "execution_count": 0,
      "outputs": []
    },
    {
      "metadata": {
        "id": "hYVOx7_sRiwi",
        "colab_type": "code",
        "colab": {}
      },
      "cell_type": "code",
      "source": [
        "from sklearn.model_selection import train_test_split\n",
        "from sklearn.preprocessing import MinMaxScaler\n",
        "\n",
        "X_train, X_test, y_train, y_test = train_test_split(X,y,random_state = 0)\n",
        "scaler = MinMaxScaler()\n",
        "\n",
        "X_train = scaler.fit_transform(X_train)\n",
        "X_test = scaler.fit_transform(X_test)\n"
      ],
      "execution_count": 0,
      "outputs": []
    },
    {
      "metadata": {
        "id": "5dOgcvm_UGTk",
        "colab_type": "code",
        "colab": {}
      },
      "cell_type": "code",
      "source": [
        "from sklearn.linear_model import LogisticRegression\n",
        "\n",
        "logreg = LogisticRegression()\n",
        "logreg.fit(X_train,y_train)\n",
        "\n",
        "\n",
        "print('Accuracy on Train Data',logreg.score(X_train,y_train))\n",
        "print('Accuracy on Test Data',logreg.score(X_test,y_test))"
      ],
      "execution_count": 0,
      "outputs": []
    },
    {
      "metadata": {
        "id": "b-F44XMKU9tG",
        "colab_type": "code",
        "colab": {}
      },
      "cell_type": "code",
      "source": [
        "from sklearn.tree import DecisionTreeClassifier\n",
        "clf = DecisionTreeClassifier().fit(X_train, y_train)\n",
        "\n",
        "print('Accuracy on Train Data',clf.score(X_train,y_train))\n",
        "print('Accuracy on Test Data',clf.score(X_test,y_test))"
      ],
      "execution_count": 0,
      "outputs": []
    },
    {
      "metadata": {
        "id": "ATMKXKrUV-Xo",
        "colab_type": "code",
        "colab": {}
      },
      "cell_type": "code",
      "source": [
        "from sklearn.neighbors import KNeighborsClassifier\n",
        "knn = KNeighborsClassifier().fit(X_train, y_train)\n",
        "\n",
        "print('Accuracy on Train Data',knn.score(X_train,y_train))\n",
        "print('Accuracy on Test Data',knn.score(X_test,y_test))"
      ],
      "execution_count": 0,
      "outputs": []
    },
    {
      "metadata": {
        "id": "OzXF78QyXUjq",
        "colab_type": "code",
        "colab": {}
      },
      "cell_type": "code",
      "source": [
        "from pandas.plotting import scatter_matrix\n",
        "from matplotlib import cm\n",
        "\n",
        "cmap= cm.get_cmap('gnuplot')\n",
        "scatter = pd.plotting.scatter_matrix(X,c=y,marker='o',s=40,hist_kwds = {'bins':15},figsize = (9,9),cmap=cmap)\n",
        "\n",
        "plt.suptitle(\"ScatterMatrix for each input variable\")\n",
        "plt.show()"
      ],
      "execution_count": 0,
      "outputs": []
    },
    {
      "metadata": {
        "id": "HyyCSEKAc6Yi",
        "colab_type": "code",
        "colab": {}
      },
      "cell_type": "code",
      "source": [
        "import matplotlib.cm as cm\n",
        "from matplotlib.colors import ListedColormap, BoundaryNorm\n",
        "import matplotlib.patches as mpatches\n",
        "import matplotlib.patches as mpatches\n",
        "import numpy as np\n",
        "\n",
        "X = fruits[['mass', 'width', 'height', 'color_score']]\n",
        "y = fruits['fruit_label']\n",
        "X_train, X_test, y_train, y_test = train_test_split(X, y, random_state=0)\n",
        "\n",
        "def plot_fruit_knn(X, y, n_neighbors, weights):\n",
        "    X_mat = X[['height', 'width']].as_matrix()\n",
        "    y_mat = y.as_matrix()\n",
        "\n",
        "# Create color maps\n",
        "    cmap_light = ListedColormap(['#FFAAAA', '#AAFFAA', '#AAAAFF','#AFAFAF'])\n",
        "    cmap_bold  = ListedColormap(['#FF0000', '#00FF00', '#0000FF','#AFAFAF'])\n",
        "\n",
        "    clf = KNeighborsClassifier(n_neighbors, weights=weights)\n",
        "    clf.fit(X_mat, y_mat)\n",
        "\n",
        "# Plot the decision boundary by assigning a color in the color map\n",
        "    # to each mesh point.\n",
        "    \n",
        "    mesh_step_size = .01  # step size in the mesh\n",
        "    plot_symbol_size = 50\n",
        "    \n",
        "    x_min, x_max = X_mat[:, 0].min() - 1, X_mat[:, 0].max() + 1\n",
        "    y_min, y_max = X_mat[:, 1].min() - 1, X_mat[:, 1].max() + 1\n",
        "    xx, yy = np.meshgrid(np.arange(x_min, x_max, mesh_step_size),np.arange(y_min, y_max, mesh_step_size))\n",
        "    Z = clf.predict(np.c_[xx.ravel(), yy.ravel()])\n",
        "\n",
        "# Put the result into a color plot\n",
        "    Z = Z.reshape(xx.shape)\n",
        "    plt.figure()\n",
        "    plt.pcolormesh(xx, yy, Z, cmap=cmap_light)\n",
        "\n",
        "# Plot training points\n",
        "    plt.scatter(X_mat[:, 0], X_mat[:, 1], s=plot_symbol_size, c=y, cmap=cmap_bold, edgecolor = 'black')\n",
        "    plt.xlim(xx.min(), xx.max())\n",
        "    plt.ylim(yy.min(), yy.max())\n",
        "\n",
        "    patch0 = mpatches.Patch(color='#FF0000', label='apple')\n",
        "    patch1 = mpatches.Patch(color='#00FF00', label='mandarin')\n",
        "    patch2 = mpatches.Patch(color='#0000FF', label='orange')\n",
        "    patch3 = mpatches.Patch(color='#AFAFAF', label='lemon')\n",
        "    plt.legend(handles=[patch0, patch1, patch2, patch3])\n",
        "\n",
        "    plt.xlabel('height (cm)')\n",
        "    plt.ylabel('width (cm)')\n",
        "    plt.title(\"4-Class classification (k = %i, weights = '%s')\"% (n_neighbors, weights))    \n",
        "    plt.show()\n",
        "\n",
        "plot_fruit_knn(X_train, y_train, 5, 'uniform')"
      ],
      "execution_count": 0,
      "outputs": []
    }
  ]
}